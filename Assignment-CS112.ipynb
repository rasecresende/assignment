{
 "cells": [
  {
   "cell_type": "markdown",
   "metadata": {},
   "source": [
    "# Data Processing"
   ]
  },
  {
   "cell_type": "code",
   "execution_count": 5,
   "metadata": {},
   "outputs": [
    {
     "data": {
      "text/html": [
       "<ol class=list-inline>\n",
       "\t<li>'Number'</li>\n",
       "\t<li>'Status'</li>\n",
       "\t<li>'Cluster'</li>\n",
       "\t<li>'Prefix'</li>\n",
       "\t<li>'Type'</li>\n",
       "\t<li>'Country'</li>\n",
       "\t<li>'Dept'</li>\n",
       "\t<li>'Division'</li>\n",
       "\t<li>'LTAA'</li>\n",
       "\t<li>'Loan'</li>\n",
       "\t<li>'ApprovalDate'</li>\n",
       "\t<li>'AgreementDate'</li>\n",
       "\t<li>'Agreement'</li>\n",
       "\t<li>'EffectivityDate'</li>\n",
       "\t<li>'CancellationDate'</li>\n",
       "\t<li>'FinancialCompletionDate'</li>\n",
       "\t<li>'OriginalCompletionDate'</li>\n",
       "\t<li>'RevisedCompletionDate'</li>\n",
       "\t<li>'JSF'</li>\n",
       "\t<li>'Fund'</li>\n",
       "\t<li>'RevisedAmount'</li>\n",
       "\t<li>'Rating'</li>\n",
       "\t<li>'No'</li>\n",
       "\t<li>'PCR'</li>\n",
       "\t<li>'CirculationDate'</li>\n",
       "</ol>\n"
      ],
      "text/latex": [
       "\\begin{enumerate*}\n",
       "\\item 'Number'\n",
       "\\item 'Status'\n",
       "\\item 'Cluster'\n",
       "\\item 'Prefix'\n",
       "\\item 'Type'\n",
       "\\item 'Country'\n",
       "\\item 'Dept'\n",
       "\\item 'Division'\n",
       "\\item 'LTAA'\n",
       "\\item 'Loan'\n",
       "\\item 'ApprovalDate'\n",
       "\\item 'AgreementDate'\n",
       "\\item 'Agreement'\n",
       "\\item 'EffectivityDate'\n",
       "\\item 'CancellationDate'\n",
       "\\item 'FinancialCompletionDate'\n",
       "\\item 'OriginalCompletionDate'\n",
       "\\item 'RevisedCompletionDate'\n",
       "\\item 'JSF'\n",
       "\\item 'Fund'\n",
       "\\item 'RevisedAmount'\n",
       "\\item 'Rating'\n",
       "\\item 'No'\n",
       "\\item 'PCR'\n",
       "\\item 'CirculationDate'\n",
       "\\end{enumerate*}\n"
      ],
      "text/markdown": [
       "1. 'Number'\n",
       "2. 'Status'\n",
       "3. 'Cluster'\n",
       "4. 'Prefix'\n",
       "5. 'Type'\n",
       "6. 'Country'\n",
       "7. 'Dept'\n",
       "8. 'Division'\n",
       "9. 'LTAA'\n",
       "10. 'Loan'\n",
       "11. 'ApprovalDate'\n",
       "12. 'AgreementDate'\n",
       "13. 'Agreement'\n",
       "14. 'EffectivityDate'\n",
       "15. 'CancellationDate'\n",
       "16. 'FinancialCompletionDate'\n",
       "17. 'OriginalCompletionDate'\n",
       "18. 'RevisedCompletionDate'\n",
       "19. 'JSF'\n",
       "20. 'Fund'\n",
       "21. 'RevisedAmount'\n",
       "22. 'Rating'\n",
       "23. 'No'\n",
       "24. 'PCR'\n",
       "25. 'CirculationDate'\n",
       "\n",
       "\n"
      ],
      "text/plain": [
       " [1] \"Number\"                  \"Status\"                 \n",
       " [3] \"Cluster\"                 \"Prefix\"                 \n",
       " [5] \"Type\"                    \"Country\"                \n",
       " [7] \"Dept\"                    \"Division\"               \n",
       " [9] \"LTAA\"                    \"Loan\"                   \n",
       "[11] \"ApprovalDate\"            \"AgreementDate\"          \n",
       "[13] \"Agreement\"               \"EffectivityDate\"        \n",
       "[15] \"CancellationDate\"        \"FinancialCompletionDate\"\n",
       "[17] \"OriginalCompletionDate\"  \"RevisedCompletionDate\"  \n",
       "[19] \"JSF\"                     \"Fund\"                   \n",
       "[21] \"RevisedAmount\"           \"Rating\"                 \n",
       "[23] \"No\"                      \"PCR\"                    \n",
       "[25] \"CirculationDate\"        "
      ]
     },
     "metadata": {},
     "output_type": "display_data"
    },
    {
     "data": {
      "text/html": [
       "<ol class=list-inline>\n",
       "\t<li>9016</li>\n",
       "\t<li>25</li>\n",
       "</ol>\n"
      ],
      "text/latex": [
       "\\begin{enumerate*}\n",
       "\\item 9016\n",
       "\\item 25\n",
       "\\end{enumerate*}\n"
      ],
      "text/markdown": [
       "1. 9016\n",
       "2. 25\n",
       "\n",
       "\n"
      ],
      "text/plain": [
       "[1] 9016   25"
      ]
     },
     "metadata": {},
     "output_type": "display_data"
    },
    {
     "data": {
      "text/html": [
       "<table>\n",
       "<thead><tr><th scope=col>Number</th><th scope=col>Status</th><th scope=col>Cluster</th><th scope=col>Prefix</th><th scope=col>Type</th><th scope=col>Country</th><th scope=col>Dept</th><th scope=col>Division</th><th scope=col>LTAA</th><th scope=col>Loan</th><th scope=col>...</th><th scope=col>FinancialCompletionDate</th><th scope=col>OriginalCompletionDate</th><th scope=col>RevisedCompletionDate</th><th scope=col>JSF</th><th scope=col>Fund</th><th scope=col>RevisedAmount</th><th scope=col>Rating</th><th scope=col>No</th><th scope=col>PCR</th><th scope=col>CirculationDate</th></tr></thead>\n",
       "<tbody>\n",
       "\t<tr><td>5001                                                </td><td>Financially Completed                               </td><td>                                                    </td><td>R                                                   </td><td>RETA                                                </td><td>REG                                                 </td><td>                                                    </td><td>                                                    </td><td>Agriculture, natural resources and rural development</td><td>0                                                   </td><td>...                                                 </td><td>1987-12-31                                          </td><td>                                                    </td><td>1987-12-31                                          </td><td>NA                                                  </td><td>2                                                   </td><td>0.155                                               </td><td>NA                                                  </td><td>                                                    </td><td>                                                    </td><td>                                                    </td></tr>\n",
       "\t<tr><td>   1                                                </td><td>Financially Completed                               </td><td>                                                    </td><td>                                                    </td><td>ADTA                                                </td><td>INO                                                 </td><td>                                                    </td><td>                                                    </td><td>Agriculture, natural resources and rural development</td><td>0                                                   </td><td>...                                                 </td><td>1968-07-31                                          </td><td>                                                    </td><td>1968-07-31                                          </td><td>NA                                                  </td><td>2                                                   </td><td>0.080                                               </td><td>NA                                                  </td><td>                                                    </td><td>                                                    </td><td>                                                    </td></tr>\n",
       "\t<tr><td>   2                                                </td><td>Financially Completed                               </td><td>                                                    </td><td>                                                    </td><td>ADTA                                                </td><td>KOR                                                 </td><td>                                                    </td><td>                                                    </td><td>Agriculture, natural resources and rural development</td><td>0                                                   </td><td>...                                                 </td><td>1969-10-31                                          </td><td>                                                    </td><td>1969-10-31                                          </td><td>NA                                                  </td><td>2                                                   </td><td>0.067                                               </td><td>NA                                                  </td><td>                                                    </td><td>                                                    </td><td>                                                    </td></tr>\n",
       "\t<tr><td>   3                                                </td><td>Financially Completed                               </td><td>                                                    </td><td>                                                    </td><td>ADTA                                                </td><td>PHI                                                 </td><td>                                                    </td><td>                                                    </td><td>Agriculture, natural resources and rural development</td><td>0                                                   </td><td>...                                                 </td><td>1970-01-31                                          </td><td>                                                    </td><td>1970-01-31                                          </td><td>NA                                                  </td><td>2                                                   </td><td>0.105                                               </td><td>NA                                                  </td><td>                                                    </td><td>                                                    </td><td>                                                    </td></tr>\n",
       "\t<tr><td>   4                                                </td><td>Financially Completed                               </td><td>                                                    </td><td>                                                    </td><td>ADTA                                                </td><td>VIE                                                 </td><td>                                                    </td><td>                                                    </td><td>Finance                                             </td><td>0                                                   </td><td>...                                                 </td><td>1972-08-31                                          </td><td>                                                    </td><td>1972-08-31                                          </td><td>NA                                                  </td><td>2                                                   </td><td>0.115                                               </td><td>NA                                                  </td><td>                                                    </td><td>                                                    </td><td>                                                    </td></tr>\n",
       "\t<tr><td>   5                                                </td><td>Financially Completed                               </td><td>                                                    </td><td>                                                    </td><td>PPTA                                                </td><td>PHI                                                 </td><td>                                                    </td><td>                                                    </td><td>Transport                                           </td><td>0                                                   </td><td>...                                                 </td><td>1970-03-31                                          </td><td>                                                    </td><td>1970-03-31                                          </td><td>NA                                                  </td><td>2                                                   </td><td>0.325                                               </td><td>NA                                                  </td><td>                                                    </td><td>                                                    </td><td>                                                    </td></tr>\n",
       "</tbody>\n",
       "</table>\n"
      ],
      "text/latex": [
       "\\begin{tabular}{r|lllllllllllllllllllllllll}\n",
       " Number & Status & Cluster & Prefix & Type & Country & Dept & Division & LTAA & Loan & ... & FinancialCompletionDate & OriginalCompletionDate & RevisedCompletionDate & JSF & Fund & RevisedAmount & Rating & No & PCR & CirculationDate\\\\\n",
       "\\hline\n",
       "\t 5001                                                 & Financially Completed                                &                                                      & R                                                    & RETA                                                 & REG                                                  &                                                      &                                                      & Agriculture, natural resources and rural development & 0                                                    & ...                                                  & 1987-12-31                                           &                                                      & 1987-12-31                                           & NA                                                   & 2                                                    & 0.155                                                & NA                                                   &                                                      &                                                      &                                                     \\\\\n",
       "\t    1                                                 & Financially Completed                                &                                                      &                                                      & ADTA                                                 & INO                                                  &                                                      &                                                      & Agriculture, natural resources and rural development & 0                                                    & ...                                                  & 1968-07-31                                           &                                                      & 1968-07-31                                           & NA                                                   & 2                                                    & 0.080                                                & NA                                                   &                                                      &                                                      &                                                     \\\\\n",
       "\t    2                                                 & Financially Completed                                &                                                      &                                                      & ADTA                                                 & KOR                                                  &                                                      &                                                      & Agriculture, natural resources and rural development & 0                                                    & ...                                                  & 1969-10-31                                           &                                                      & 1969-10-31                                           & NA                                                   & 2                                                    & 0.067                                                & NA                                                   &                                                      &                                                      &                                                     \\\\\n",
       "\t    3                                                 & Financially Completed                                &                                                      &                                                      & ADTA                                                 & PHI                                                  &                                                      &                                                      & Agriculture, natural resources and rural development & 0                                                    & ...                                                  & 1970-01-31                                           &                                                      & 1970-01-31                                           & NA                                                   & 2                                                    & 0.105                                                & NA                                                   &                                                      &                                                      &                                                     \\\\\n",
       "\t    4                                                 & Financially Completed                                &                                                      &                                                      & ADTA                                                 & VIE                                                  &                                                      &                                                      & Finance                                              & 0                                                    & ...                                                  & 1972-08-31                                           &                                                      & 1972-08-31                                           & NA                                                   & 2                                                    & 0.115                                                & NA                                                   &                                                      &                                                      &                                                     \\\\\n",
       "\t    5                                                 & Financially Completed                                &                                                      &                                                      & PPTA                                                 & PHI                                                  &                                                      &                                                      & Transport                                            & 0                                                    & ...                                                  & 1970-03-31                                           &                                                      & 1970-03-31                                           & NA                                                   & 2                                                    & 0.325                                                & NA                                                   &                                                      &                                                      &                                                     \\\\\n",
       "\\end{tabular}\n"
      ],
      "text/markdown": [
       "\n",
       "| Number | Status | Cluster | Prefix | Type | Country | Dept | Division | LTAA | Loan | ... | FinancialCompletionDate | OriginalCompletionDate | RevisedCompletionDate | JSF | Fund | RevisedAmount | Rating | No | PCR | CirculationDate |\n",
       "|---|---|---|---|---|---|---|---|---|---|---|---|---|---|---|---|---|---|---|---|---|\n",
       "| 5001                                                 | Financially Completed                                |                                                      | R                                                    | RETA                                                 | REG                                                  |                                                      |                                                      | Agriculture, natural resources and rural development | 0                                                    | ...                                                  | 1987-12-31                                           |                                                      | 1987-12-31                                           | NA                                                   | 2                                                    | 0.155                                                | NA                                                   |                                                      |                                                      |                                                      |\n",
       "|    1                                                 | Financially Completed                                |                                                      |                                                      | ADTA                                                 | INO                                                  |                                                      |                                                      | Agriculture, natural resources and rural development | 0                                                    | ...                                                  | 1968-07-31                                           |                                                      | 1968-07-31                                           | NA                                                   | 2                                                    | 0.080                                                | NA                                                   |                                                      |                                                      |                                                      |\n",
       "|    2                                                 | Financially Completed                                |                                                      |                                                      | ADTA                                                 | KOR                                                  |                                                      |                                                      | Agriculture, natural resources and rural development | 0                                                    | ...                                                  | 1969-10-31                                           |                                                      | 1969-10-31                                           | NA                                                   | 2                                                    | 0.067                                                | NA                                                   |                                                      |                                                      |                                                      |\n",
       "|    3                                                 | Financially Completed                                |                                                      |                                                      | ADTA                                                 | PHI                                                  |                                                      |                                                      | Agriculture, natural resources and rural development | 0                                                    | ...                                                  | 1970-01-31                                           |                                                      | 1970-01-31                                           | NA                                                   | 2                                                    | 0.105                                                | NA                                                   |                                                      |                                                      |                                                      |\n",
       "|    4                                                 | Financially Completed                                |                                                      |                                                      | ADTA                                                 | VIE                                                  |                                                      |                                                      | Finance                                              | 0                                                    | ...                                                  | 1972-08-31                                           |                                                      | 1972-08-31                                           | NA                                                   | 2                                                    | 0.115                                                | NA                                                   |                                                      |                                                      |                                                      |\n",
       "|    5                                                 | Financially Completed                                |                                                      |                                                      | PPTA                                                 | PHI                                                  |                                                      |                                                      | Transport                                            | 0                                                    | ...                                                  | 1970-03-31                                           |                                                      | 1970-03-31                                           | NA                                                   | 2                                                    | 0.325                                                | NA                                                   |                                                      |                                                      |                                                      |\n",
       "\n"
      ],
      "text/plain": [
       "  Number Status                Cluster Prefix Type Country Dept Division\n",
       "1 5001   Financially Completed         R      RETA REG                  \n",
       "2    1   Financially Completed                ADTA INO                  \n",
       "3    2   Financially Completed                ADTA KOR                  \n",
       "4    3   Financially Completed                ADTA PHI                  \n",
       "5    4   Financially Completed                ADTA VIE                  \n",
       "6    5   Financially Completed                PPTA PHI                  \n",
       "  LTAA                                                 Loan ...\n",
       "1 Agriculture, natural resources and rural development 0    ...\n",
       "2 Agriculture, natural resources and rural development 0    ...\n",
       "3 Agriculture, natural resources and rural development 0    ...\n",
       "4 Agriculture, natural resources and rural development 0    ...\n",
       "5 Finance                                              0    ...\n",
       "6 Transport                                            0    ...\n",
       "  FinancialCompletionDate OriginalCompletionDate RevisedCompletionDate JSF Fund\n",
       "1 1987-12-31                                     1987-12-31            NA  2   \n",
       "2 1968-07-31                                     1968-07-31            NA  2   \n",
       "3 1969-10-31                                     1969-10-31            NA  2   \n",
       "4 1970-01-31                                     1970-01-31            NA  2   \n",
       "5 1972-08-31                                     1972-08-31            NA  2   \n",
       "6 1970-03-31                                     1970-03-31            NA  2   \n",
       "  RevisedAmount Rating No PCR CirculationDate\n",
       "1 0.155         NA                           \n",
       "2 0.080         NA                           \n",
       "3 0.067         NA                           \n",
       "4 0.105         NA                           \n",
       "5 0.115         NA                           \n",
       "6 0.325         NA                           "
      ]
     },
     "metadata": {},
     "output_type": "display_data"
    }
   ],
   "source": [
    "### Multilateral Development Institution Data\n",
    "foo <- read.csv(\"https://tinyurl.com/yb4phxx8\") # read in the data\n",
    "\n",
    "# column names\n",
    "names(foo)\n",
    "\n",
    "# dimensions of the data set\n",
    "dim(foo)\n",
    "\n",
    "# quick look at the data structure\n",
    "head(foo)\n",
    "\n",
    "# take note of the columns representing calendar dates\n",
    "date.columns <- c(11 , 12 , 14 , 15 , 16 , 17 , 18 , 25)"
   ]
  },
  {
   "cell_type": "code",
   "execution_count": 6,
   "metadata": {},
   "outputs": [],
   "source": [
    "for(i in date.columns)  # this \"for loop\" only loops through the \"date.columns\" -- no other columns.\n",
    "  \n",
    "{\n",
    "    # Find missing values\n",
    "    which_values_are_missing <- which(as.character(foo[, i]) == \"\")\n",
    "    \n",
    "    # Replace them by NAs\n",
    "    foo[which_values_are_missing, i] <- NA\n",
    "    \n",
    "    # Turn values into dates\n",
    "    foo[, i] <- as.Date(as.character(foo[, i]))\n",
    "  \n",
    "}"
   ]
  },
  {
   "cell_type": "code",
   "execution_count": 7,
   "metadata": {},
   "outputs": [
    {
     "data": {
      "text/html": [
       "<time datetime=\"1968-03-13\">1968-03-13</time>"
      ],
      "text/latex": [
       "1968-03-13"
      ],
      "text/markdown": [
       "1968-03-13"
      ],
      "text/plain": [
       "[1] \"1968-03-13\""
      ]
     },
     "metadata": {},
     "output_type": "display_data"
    },
    {
     "data": {
      "text/html": [
       "<time datetime=\"1968-07-03\">1968-07-03</time>"
      ],
      "text/latex": [
       "1968-07-03"
      ],
      "text/markdown": [
       "1968-07-03"
      ],
      "text/plain": [
       "[1] \"1968-07-03\""
      ]
     },
     "metadata": {},
     "output_type": "display_data"
    },
    {
     "data": {
      "text/plain": [
       "Time difference of -112 days"
      ]
     },
     "metadata": {},
     "output_type": "display_data"
    }
   ],
   "source": [
    "# Try this yourself\n",
    "\n",
    "foo[3,12]\n",
    "# [1] \"1968-03-13\"\n",
    "\n",
    "foo[4,12]\n",
    "# [1] \"1968-07-03\"\n",
    "\n",
    "foo[3,12] - foo[4,12]\n",
    "# Time difference of -112 days"
   ]
  },
  {
   "cell_type": "code",
   "execution_count": 10,
   "metadata": {},
   "outputs": [],
   "source": [
    "# If you want to remove NAs for a given column ...\n",
    "which.have.NAs <- which(is.na(foo$Rating == TRUE))\n",
    "\n",
    "new_foo <- foo[-which.have.NAs, ]"
   ]
  },
  {
   "cell_type": "code",
   "execution_count": 11,
   "metadata": {},
   "outputs": [
    {
     "data": {
      "text/html": [
       "<dl class=dl-horizontal>\n",
       "\t<dt>Min.</dt>\n",
       "\t\t<dd><time datetime=\"2009-01-14\">2009-01-14</time></dd>\n",
       "\t<dt>1st Qu.</dt>\n",
       "\t\t<dd><time datetime=\"2011-07-21\">2011-07-21</time></dd>\n",
       "\t<dt>Median</dt>\n",
       "\t\t<dd><time datetime=\"2014-02-03\">2014-02-03</time></dd>\n",
       "\t<dt>Mean</dt>\n",
       "\t\t<dd><time datetime=\"2013-12-02\">2013-12-02</time></dd>\n",
       "\t<dt>3rd Qu.</dt>\n",
       "\t\t<dd><time datetime=\"2016-06-17\">2016-06-17</time></dd>\n",
       "\t<dt>Max.</dt>\n",
       "\t\t<dd><time datetime=\"2018-06-29\">2018-06-29</time></dd>\n",
       "</dl>\n"
      ],
      "text/latex": [
       "\\begin{description*}\n",
       "\\item[Min.] 2009-01-14\n",
       "\\item[1st Qu.] 2011-07-21\n",
       "\\item[Median] 2014-02-03\n",
       "\\item[Mean] 2013-12-02\n",
       "\\item[3rd Qu.] 2016-06-17\n",
       "\\item[Max.] 2018-06-29\n",
       "\\end{description*}\n"
      ],
      "text/markdown": [
       "Min.\n",
       ":   2009-01-141st Qu.\n",
       ":   2011-07-21Median\n",
       ":   2014-02-03Mean\n",
       ":   2013-12-023rd Qu.\n",
       ":   2016-06-17Max.\n",
       ":   2018-06-29\n",
       "\n"
      ],
      "text/plain": [
       "        Min.      1st Qu.       Median         Mean      3rd Qu.         Max. \n",
       "\"2009-01-14\" \"2011-07-21\" \"2014-02-03\" \"2013-12-02\" \"2016-06-17\" \"2018-06-29\" "
      ]
     },
     "metadata": {},
     "output_type": "display_data"
    }
   ],
   "source": [
    "noNA_foo <- new_foo[!is.na(new_foo$CirculationDate), ]\n",
    "df <- noNA_foo[which(noNA_foo$CirculationDate >= as.Date(\"2009-01-01\")), ]\n",
    "\n",
    "# Check:\n",
    "summary(df$CirculationDate)"
   ]
  },
  {
   "cell_type": "markdown",
   "metadata": {},
   "source": [
    "# Question 1\n",
    "\n",
    "(1) When projects are approved, they are approved for a certain period (until the time of “original completion date”). While projects are active, this “original” completion date is often extended, and then there is a “revised” completion date. You have been told that project duration at approval is generally about two years (24 months). In other words, (purportedly) when  projects are approved, the difference between the original project completion date and the approval date is (supposedly) approximately 24 months.\n"
   ]
  },
  {
   "cell_type": "markdown",
   "metadata": {},
   "source": [
    "(a) Is this claim true? Explain."
   ]
  },
  {
   "cell_type": "code",
   "execution_count": 23,
   "metadata": {},
   "outputs": [
    {
     "data": {
      "text/plain": [
       "Time difference of 650.9313 days"
      ]
     },
     "metadata": {},
     "output_type": "display_data"
    }
   ],
   "source": [
    "mask <- which(is.na(df$OriginalCompletionDate)) #creates object mask to return the position of the elements in which there\n",
    "#are missing values of original completion dates\n",
    "\n",
    "df_withDates <- df[-mask,] #leaves in the dataframe only elements that have original completion dates\n",
    "\n",
    "expected_duration <- mean(df_withDates$OriginalCompletionDate) - mean(df_withDates$ApprovalDate) #calculates the difference\n",
    "#between mean original completion date and mean approval date disregarding the projects with missing values\n",
    "\n",
    "expected_duration #calls the time difference in days"
   ]
  },
  {
   "cell_type": "markdown",
   "metadata": {},
   "source": [
    "*ANSWER*: \n",
    "\n",
    "False. Dividing 650.9313 by 365, we would get 1.78 years as the mean time for project duration, which is lower than the 2 years proposed by the claim. Possibly the true mean could be closer to two years if we had data for the projects that are missing original completion date.\n",
    "\n",
    "\n",
    "\n",
    "\n"
   ]
  },
  {
   "cell_type": "markdown",
   "metadata": {},
   "source": [
    "(b) Has the length of project delay, measured as the difference between “OriginalCompletionDate” and “RevisedCompletionDate”, changed over time (consider projects circulated earlier and circulated later)? You will need to make a choice of how to deal\n",
    "with missing information, which you should explicitly discuss. Be sure to also discuss mean delays, median delays, and the interquartile range of delays (using the “quantile” function). Approximate suggested length: 3-5 sentences.\n"
   ]
  },
  {
   "cell_type": "code",
   "execution_count": 28,
   "metadata": {},
   "outputs": [
    {
     "data": {
      "text/html": [
       "0"
      ],
      "text/latex": [
       "0"
      ],
      "text/markdown": [
       "0"
      ],
      "text/plain": [
       "[1] 0"
      ]
     },
     "metadata": {},
     "output_type": "display_data"
    }
   ],
   "source": [
    "# Circulation year column\n",
    "df_withDates$CirculationYear <- format(df_withDates$CirculationDate, \"%Y\")\n",
    "\n",
    "sum(is.na(df_withDates$RevisedCompletionDate))  #Shows that there are no missing information in the rows of Revised Completion\n",
    "#Date when the output is 0\n",
    "\n",
    "# Delay column\n",
    "df_withDates$Delay <- df_withDates$RevisedCompletionDate - df_withDates$OriginalCompletionDate \n"
   ]
  },
  {
   "cell_type": "code",
   "execution_count": 29,
   "metadata": {},
   "outputs": [
    {
     "data": {
      "text/html": [
       "<table>\n",
       "<thead><tr><th scope=col>CirculationYear</th><th scope=col>mean.delay</th><th scope=col>median.delay</th><th scope=col>IQR.delay</th></tr></thead>\n",
       "<tbody>\n",
       "\t<tr><td>2009         </td><td>657.7644 days</td><td>549.0 days   </td><td>610.00 days  </td></tr>\n",
       "\t<tr><td>2010         </td><td>634.0000 days</td><td>547.0 days   </td><td>511.25 days  </td></tr>\n",
       "\t<tr><td>2011         </td><td>584.7664 days</td><td>426.0 days   </td><td>610.00 days  </td></tr>\n",
       "\t<tr><td>2012         </td><td>538.2390 days</td><td>487.0 days   </td><td>409.50 days  </td></tr>\n",
       "\t<tr><td>2013         </td><td>503.5893 days</td><td>396.0 days   </td><td>493.00 days  </td></tr>\n",
       "\t<tr><td>2014         </td><td>520.1750 days</td><td>457.0 days   </td><td>396.25 days  </td></tr>\n",
       "\t<tr><td>2015         </td><td>626.9821 days</td><td>442.0 days   </td><td>677.25 days  </td></tr>\n",
       "\t<tr><td>2016         </td><td>529.3702 days</td><td>366.0 days   </td><td>518.00 days  </td></tr>\n",
       "\t<tr><td>2017         </td><td>540.1632 days</td><td>456.0 days   </td><td>545.75 days  </td></tr>\n",
       "\t<tr><td>2018         </td><td>566.1905 days</td><td>365.5 days   </td><td>418.50 days  </td></tr>\n",
       "</tbody>\n",
       "</table>\n"
      ],
      "text/latex": [
       "\\begin{tabular}{r|llll}\n",
       " CirculationYear & mean.delay & median.delay & IQR.delay\\\\\n",
       "\\hline\n",
       "\t 2009          & 657.7644 days & 549.0 days    & 610.00 days  \\\\\n",
       "\t 2010          & 634.0000 days & 547.0 days    & 511.25 days  \\\\\n",
       "\t 2011          & 584.7664 days & 426.0 days    & 610.00 days  \\\\\n",
       "\t 2012          & 538.2390 days & 487.0 days    & 409.50 days  \\\\\n",
       "\t 2013          & 503.5893 days & 396.0 days    & 493.00 days  \\\\\n",
       "\t 2014          & 520.1750 days & 457.0 days    & 396.25 days  \\\\\n",
       "\t 2015          & 626.9821 days & 442.0 days    & 677.25 days  \\\\\n",
       "\t 2016          & 529.3702 days & 366.0 days    & 518.00 days  \\\\\n",
       "\t 2017          & 540.1632 days & 456.0 days    & 545.75 days  \\\\\n",
       "\t 2018          & 566.1905 days & 365.5 days    & 418.50 days  \\\\\n",
       "\\end{tabular}\n"
      ],
      "text/markdown": [
       "\n",
       "| CirculationYear | mean.delay | median.delay | IQR.delay |\n",
       "|---|---|---|---|\n",
       "| 2009          | 657.7644 days | 549.0 days    | 610.00 days   |\n",
       "| 2010          | 634.0000 days | 547.0 days    | 511.25 days   |\n",
       "| 2011          | 584.7664 days | 426.0 days    | 610.00 days   |\n",
       "| 2012          | 538.2390 days | 487.0 days    | 409.50 days   |\n",
       "| 2013          | 503.5893 days | 396.0 days    | 493.00 days   |\n",
       "| 2014          | 520.1750 days | 457.0 days    | 396.25 days   |\n",
       "| 2015          | 626.9821 days | 442.0 days    | 677.25 days   |\n",
       "| 2016          | 529.3702 days | 366.0 days    | 518.00 days   |\n",
       "| 2017          | 540.1632 days | 456.0 days    | 545.75 days   |\n",
       "| 2018          | 566.1905 days | 365.5 days    | 418.50 days   |\n",
       "\n"
      ],
      "text/plain": [
       "   CirculationYear mean.delay    median.delay IQR.delay  \n",
       "1  2009            657.7644 days 549.0 days   610.00 days\n",
       "2  2010            634.0000 days 547.0 days   511.25 days\n",
       "3  2011            584.7664 days 426.0 days   610.00 days\n",
       "4  2012            538.2390 days 487.0 days   409.50 days\n",
       "5  2013            503.5893 days 396.0 days   493.00 days\n",
       "6  2014            520.1750 days 457.0 days   396.25 days\n",
       "7  2015            626.9821 days 442.0 days   677.25 days\n",
       "8  2016            529.3702 days 366.0 days   518.00 days\n",
       "9  2017            540.1632 days 456.0 days   545.75 days\n",
       "10 2018            566.1905 days 365.5 days   418.50 days"
      ]
     },
     "metadata": {},
     "output_type": "display_data"
    }
   ],
   "source": [
    "#I am copying the solution provided by the code key to get information about the the means, medians and interquantile ranges\n",
    "library(dplyr)  \n",
    "delayByYear <- df_withDates %>%  # %>% means \"pass what is to the left to the function that follows\"\n",
    "  group_by(CirculationYear) %>%    \n",
    "  summarise(mean.delay = mean(Delay), \n",
    "            median.delay = median(Delay),\n",
    "            IQR.delay = quantile(Delay, 0.75) - quantile(Delay, 0.25))\n",
    "delayByYear"
   ]
  },
  {
   "cell_type": "code",
   "execution_count": 35,
   "metadata": {},
   "outputs": [
    {
     "data": {
      "image/png": "[encoded data removed]",
      "text/plain": [
       "Plot with title \"Project Delay\""
      ]
     },
     "metadata": {},
     "output_type": "display_data"
    }
   ],
   "source": [
    "#Plotting\n",
    "\n",
    "plot(delayByYear$CirculationYear, delayByYear$mean.delay, \n",
    "     pch=15, col=\"red\", ylim=c(100, 800), \n",
    "     xlab=\"Circulation Year\", ylab=\"Delay (days)\", main=\"Project Delay\")\n",
    "points(delayByYear$CirculationYear, delayByYear$median.delay, pch=16, col=\"blue\")\n",
    "points(delayByYear$CirculationYear, delayByYear$IQR.delay, pch=17, col=\"green\")\n",
    "legend(\"bottomleft\", pch=c(15,16,17), \n",
    "       col=c(\"red\",\"blue\",\"green\"), \n",
    "       legend=c(\"Mean Delay\", \"Median Delay\", \"IQR of Delays\"))\n",
    "grid(nx=NA, ny=NULL)"
   ]
  },
  {
   "cell_type": "markdown",
   "metadata": {},
   "source": [
    "*Answer*:\n",
    "\n",
    "Project delays fluctuated from 2009 to 2018. The highest mean delay was in 2009, with 657 days, and the lowest in 2013 with 503 days. There is no observable trend by looking at the data points in the figure.\n",
    "\n",
    "The median also fluctuates. Furthermore, it's lower than the mean in every year, which means that the dataset has more outliers in the high end of the distribution (positively skewed).\n",
    "\n",
    "The interquartile range is the difference between the first (25%) and third (75%) quartile. It shows where the bulk of the values lie. The IQR is also following a similar fluctuating trend to the mean"
   ]
  },
  {
   "cell_type": "markdown",
   "metadata": {},
   "source": [
    "(c) How does the original planned project duration differ from actual duration (if the actual duration is measured as the duration between “ApprovalDate” and “RevisedCompletionDate”)? Once again, use means, medians, and interquartile ranges to explain your results. Approximate suggested length: 3-5 sentences."
   ]
  },
  {
   "cell_type": "code",
   "execution_count": 48,
   "metadata": {},
   "outputs": [
    {
     "data": {
      "text/plain": [
       "Time difference of 1220.019 days"
      ]
     },
     "metadata": {},
     "output_type": "display_data"
    },
    {
     "data": {
      "text/plain": [
       "Time difference of 1120.5 days"
      ]
     },
     "metadata": {},
     "output_type": "display_data"
    },
    {
     "data": {
      "text/plain": [
       "Time differences in days\n",
       "     0%     25%     50%     75%    100% \n",
       "  56.00  838.25 1120.50 1482.75 4395.00 "
      ]
     },
     "metadata": {},
     "output_type": "display_data"
    },
    {
     "data": {
      "text/html": [
       "644.5"
      ],
      "text/latex": [
       "644.5"
      ],
      "text/markdown": [
       "644.5"
      ],
      "text/plain": [
       "[1] 644.5"
      ]
     },
     "metadata": {},
     "output_type": "display_data"
    },
    {
     "data": {
      "text/plain": [
       "Time differences in days\n",
       "[1]   56 4395"
      ]
     },
     "metadata": {},
     "output_type": "display_data"
    }
   ],
   "source": [
    "# Actual duration measured as difference between approval date and revised completion date\n",
    "df_withDates$ActualDuration <- df_withDates$RevisedCompletionDate - df_withDates$ApprovalDate\n",
    "\n",
    "# Actual duration statistics\n",
    "mean(df_withDates$ActualDuration) \n",
    "median(df_withDates$ActualDuration)\n",
    "quantile(df_withDates$ActualDuration)\n",
    "IQR(df_withDates$ActualDuration) \n",
    "range(df_withDates$ActualDuration)"
   ]
  },
  {
   "cell_type": "code",
   "execution_count": 50,
   "metadata": {},
   "outputs": [
    {
     "data": {
      "text/plain": [
       "Time difference of 650.9313 days"
      ]
     },
     "metadata": {},
     "output_type": "display_data"
    },
    {
     "data": {
      "text/plain": [
       "Time difference of 599.5 days"
      ]
     },
     "metadata": {},
     "output_type": "display_data"
    },
    {
     "data": {
      "text/plain": [
       "Time differences in days\n",
       "     0%     25%     50%     75%    100% \n",
       "  18.00  406.25  599.50  792.00 3369.00 "
      ]
     },
     "metadata": {},
     "output_type": "display_data"
    },
    {
     "data": {
      "text/html": [
       "385.75"
      ],
      "text/latex": [
       "385.75"
      ],
      "text/markdown": [
       "385.75"
      ],
      "text/plain": [
       "[1] 385.75"
      ]
     },
     "metadata": {},
     "output_type": "display_data"
    },
    {
     "data": {
      "text/plain": [
       "Time differences in days\n",
       "[1]   18 3369"
      ]
     },
     "metadata": {},
     "output_type": "display_data"
    }
   ],
   "source": [
    "#Expected duration measured as the difference between approval date and the original expected duration date\n",
    "df_withDates$ExpectedDuration <- df_withDates$OriginalCompletionDate - df_withDates$ApprovalDate\n",
    "\n",
    "#Expected duration statistics\n",
    "mean(df_withDates$ExpectedDuration)\n",
    "median(df_withDates$ExpectedDuration) \n",
    "quantile(df_withDates$ExpectedDuration) \n",
    "IQR(df_withDates$ExpectedDuration)\n",
    "range(df_withDates$ExpectedDuration)"
   ]
  },
  {
   "cell_type": "markdown",
   "metadata": {},
   "source": [
    "*Answer*:\n",
    "\n",
    "From the data, we can infer that projects take longer to be approved than originally planned.  Both means and medians are higher in actual duration compared to expected duration: 1220 > 650 and 1120 > 599.\n",
    "\n",
    "Supporting evidence can be seen when we look at quantiles. This shows that most of the data for actual duration is spread between 1428 and 838, which are higher upper and lower bounds than the ones for expected duration (792 and 406).\n",
    "\n",
    "Interestingly, we can also infer that time difference is more spread out for actual duration than expected: Both range and IQR are higher. A possible reason for this might be that when the institution approves a project, they are more optimistic regarding completion date, but as the date gets revised, new confounding variables come into play that might delay the completion, creating a bigger spread of time differences for actual duration."
   ]
  },
  {
   "cell_type": "markdown",
   "metadata": {},
   "source": [
    "# Question 2"
   ]
  },
  {
   "cell_type": "markdown",
   "metadata": {},
   "source": [
    "(2) What % of projects completed between 2010 and now were rated 0? What % over the same time period were rated 1? What % were rated 2? What % were rated 3? Answer these questions using a table or a figure. Provide a title and an explanatory sentence or two that provides the numerical % results rounded to the nearest percentage point."
   ]
  },
  {
   "cell_type": "code",
   "execution_count": 58,
   "metadata": {},
   "outputs": [
    {
     "name": "stdout",
     "output_type": "stream",
     "text": [
      "[1] \"Distribution of Project Ratings\"\n"
     ]
    },
    {
     "data": {
      "text/plain": [
       "\n",
       "        0         1         2         3 \n",
       " 2.124312 11.487018 72.147915 14.240755 "
      ]
     },
     "metadata": {},
     "output_type": "display_data"
    }
   ],
   "source": [
    "# Creates a variable with number of projects completed between 2010 and now\n",
    "df2010 <- noNA_foo[which(noNA_foo$RevisedCompletionDate >= as.Date(\"2010-01-01\")), ] #Changed the critical variable to\n",
    "#RevisedCompletionDate\n",
    "\n",
    "print(\"Distribution of Project Ratings\") #prints the title\n",
    "prop.table(table(df2010$Rating)) *100  #prints table where the first row corresponds to rating and the second row with \n",
    "# the percentages\n",
    "\n"
   ]
  },
  {
   "cell_type": "markdown",
   "metadata": {},
   "source": [
    "*Answer*:\n",
    "\n",
    "2% received a rating of 0; 11.4% received a rating of 1; 72% received rating of 2; 14% received a rating of 3. Therefore, the majority received a 2 rating."
   ]
  },
  {
   "cell_type": "markdown",
   "metadata": {},
   "source": [
    "# Question 3"
   ]
  },
  {
   "cell_type": "markdown",
   "metadata": {},
   "source": [
    "Repeat problem 2, but this time limit your analysis purely to policy and advisory technical assistance (”PATA”) projects.\n"
   ]
  },
  {
   "cell_type": "code",
   "execution_count": 60,
   "metadata": {},
   "outputs": [
    {
     "name": "stdout",
     "output_type": "stream",
     "text": [
      "[1] \"Distribution of Project Ratings (PATA only)\"\n"
     ]
    },
    {
     "data": {
      "text/plain": [
       "\n",
       "        0         1         2         3 \n",
       " 1.098901  8.058608 72.161172 18.681319 "
      ]
     },
     "metadata": {},
     "output_type": "display_data"
    }
   ],
   "source": [
    "# Selecting only PATA projects from the variable created in the cell above\n",
    "df_PATA <- df2010[which(df2010$Type == \"PATA\"),]\n",
    "\n",
    "print(\"Distribution of Project Ratings (PATA only)\") #prints the title\n",
    "table(df_PATA$Rating) / length(df_PATA$Rating) * 100  #prints the table"
   ]
  },
  {
   "cell_type": "markdown",
   "metadata": {},
   "source": [
    "*Answer*:\n",
    "\n",
    "1% received a rating of 0; 8% received a rating of 1; 72% received a rating of 2, 18.6% received a rating of 3. PATA has a similar percentage for rating 2, but higher for 3 and lower for 0 and 1."
   ]
  },
  {
   "cell_type": "markdown",
   "metadata": {},
   "source": [
    "# Question 4"
   ]
  },
  {
   "cell_type": "markdown",
   "metadata": {},
   "source": [
    "Identify the top 10% of projects by “Revised.Amount” and the bottom 10% of projects by “RevisedAmount” (“RevisedAmount” shows the final project budget). Compare the ratings of these projects. Can you draw a causal conclusion about the effect of budget\n",
    "size on ratings? Why or why not? Hint: Compare the characteristics of the two project groupings, e.g., “Dept,” “Division,” “Cluster,” “Country.” Approximate suggested length: 3-5 sentences.\n"
   ]
  },
  {
   "cell_type": "code",
   "execution_count": 69,
   "metadata": {},
   "outputs": [
    {
     "data": {
      "text/html": [
       "1.97619047619048"
      ],
      "text/latex": [
       "1.97619047619048"
      ],
      "text/markdown": [
       "1.97619047619048"
      ],
      "text/plain": [
       "[1] 1.97619"
      ]
     },
     "metadata": {},
     "output_type": "display_data"
    },
    {
     "data": {
      "text/html": [
       "2"
      ],
      "text/latex": [
       "2"
      ],
      "text/markdown": [
       "2"
      ],
      "text/plain": [
       "[1] 2"
      ]
     },
     "metadata": {},
     "output_type": "display_data"
    },
    {
     "data": {
      "text/html": [
       "0.578583661471639"
      ],
      "text/latex": [
       "0.578583661471639"
      ],
      "text/markdown": [
       "0.578583661471639"
      ],
      "text/plain": [
       "[1] 0.5785837"
      ]
     },
     "metadata": {},
     "output_type": "display_data"
    },
    {
     "data": {
      "text/html": [
       "2.01119402985075"
      ],
      "text/latex": [
       "2.01119402985075"
      ],
      "text/markdown": [
       "2.01119402985075"
      ],
      "text/plain": [
       "[1] 2.011194"
      ]
     },
     "metadata": {},
     "output_type": "display_data"
    },
    {
     "data": {
      "text/html": [
       "2"
      ],
      "text/latex": [
       "2"
      ],
      "text/markdown": [
       "2"
      ],
      "text/plain": [
       "[1] 2"
      ]
     },
     "metadata": {},
     "output_type": "display_data"
    },
    {
     "data": {
      "text/html": [
       "0.564115488449655"
      ],
      "text/latex": [
       "0.564115488449655"
      ],
      "text/markdown": [
       "0.564115488449655"
      ],
      "text/plain": [
       "[1] 0.5641155"
      ]
     },
     "metadata": {},
     "output_type": "display_data"
    }
   ],
   "source": [
    "# Creates the two new dataframes for top and bottom ratings by revised amount.\n",
    "df_TopQuant <- df[which(df$RevisedAmount >= quantile(df$RevisedAmount, 0.9)),]\n",
    "df_BottomQuant <- df[which(df$RevisedAmount <= quantile(df$RevisedAmount, 0.1)),]\n",
    "\n",
    "#Gets the descriptive stats for the top 10%\n",
    "mean(df_TopQuant$Rating)\n",
    "median(df_TopQuant$Rating)\n",
    "sd(df_TopQuant$Rating)\n",
    "\n",
    "#Gets the descriptive stats for the bottom 10%\n",
    "mean(df_BottomQuant$Rating)\n",
    "median(df_BottomQuant$Rating)\n",
    "sd(df_BottomQuant$Rating)"
   ]
  },
  {
   "cell_type": "code",
   "execution_count": 70,
   "metadata": {},
   "outputs": [
    {
     "data": {
      "text/plain": [
       "\n",
       "        0         1         2         3 \n",
       " 1.261549 -1.226013  2.167733 -2.203269 "
      ]
     },
     "metadata": {},
     "output_type": "display_data"
    }
   ],
   "source": [
    "# Compares the rates in percentage\n",
    "(table(df_TopQuant$Rating) / length(df_TopQuant$Rating) * 100) - \n",
    "  (table(df_BottomQuant$Rating) / length(df_BottomQuant$Rating) * 100)"
   ]
  },
  {
   "cell_type": "code",
   "execution_count": 71,
   "metadata": {},
   "outputs": [
    {
     "data": {
      "text/plain": [
       "\n",
       "             AED*      AGD     AGDX     ARDD      AWD     AWD*     BDCO \n",
       "       0        0        0        0        0        0        0        0 \n",
       "    BPMS     CPSO     CRPN      CTL     CWRD      DOC     EARD   ECRD** \n",
       "       0        0        0       -2        1        0       -6       -1 \n",
       "    ERCD     IDBD      IED      IFD     IRDD      IWD     MKRD      OAG \n",
       "     -19        0        0        0        0        0        0        0 \n",
       "     OAI      OCO     OCRP     OESD      OGC     OOMP      OPO     OPPP \n",
       "      -2       -1       -2        0        0        0        0        0 \n",
       "    OREI      ORM     PARD     PPFD      PSD      PSG     PSOD      RMU \n",
       "      -6        0       -8       -3        0        0      -10        0 \n",
       "    SARD     SDCC     SERD   SERD** SFSP-AUS      SPD       TD     VPO1 \n",
       "     -27       10      -20        0        0       -2       -2        0 \n",
       "    VPPC      VPW \n",
       "       0        0 "
      ]
     },
     "metadata": {},
     "output_type": "display_data"
    }
   ],
   "source": [
    "# Compares the count with \"Dept\" feature\n",
    "table(df_TopQuant$Dept) - table(df_BottomQuant$Dept)\n",
    "# More projects in the top quantile are within the SDCC, whereas\n",
    "# more projects in the bottom  quantile are in the SERD, ERCD and SARD departments."
   ]
  },
  {
   "cell_type": "code",
   "execution_count": 72,
   "metadata": {},
   "outputs": [
    {
     "data": {
      "text/plain": [
       "\n",
       "                     14          15          16          17          18 \n",
       "-1.92786070  0.00000000  0.00000000  0.00000000  0.00000000  0.00000000 \n",
       "         19          20          21          22          23          24 \n",
       " 0.00000000  0.00000000  0.00000000  0.00000000  0.00000000  0.00000000 \n",
       "         25          26          27          28          29          30 \n",
       " 0.00000000  0.00000000  0.00000000  0.00000000  0.00000000  0.00000000 \n",
       "       C001        C002        C003        C004        C005        C006 \n",
       " 0.00000000  0.59523810 -0.07995736  0.00000000  0.00000000  0.22210377 \n",
       "       C007        C008        C009        C010        C011        C012 \n",
       " 0.00000000  0.00000000  1.19047619  0.00000000  0.00000000  0.00000000 \n",
       "       C013 \n",
       " 0.00000000 "
      ]
     },
     "metadata": {},
     "output_type": "display_data"
    }
   ],
   "source": [
    "# Compares the \"Cluster\" feature\n",
    "(table(df_TopQuant$Cluster) / length(df_TopQuant$Cluster) * 100) - \n",
    "  (table(df_BottomQuant$Cluster) / length(df_BottomQuant$Cluster) * 100)"
   ]
  },
  {
   "cell_type": "code",
   "execution_count": 73,
   "metadata": {},
   "outputs": [
    {
     "data": {
      "text/plain": [
       "\n",
       "        AFG         ARM         AZE         BAN         BHU         BRU \n",
       " 2.60305615  0.00000000  0.00000000 -5.22388060 -1.11940299  0.00000000 \n",
       "        CAM         COO         FIJ         FSM         GEO         IND \n",
       "-2.54086709 -0.37313433 -0.37313433 -0.74626866 -1.11940299  4.14889837 \n",
       "        INO         KAZ         KGZ         KIR         KOR         LAO \n",
       " 0.73738451 -0.37313433 -1.49253731  0.22210377  0.00000000  0.07107321 \n",
       "        MAL         MLD         MON         MYA         NAU         NEP \n",
       "-0.37313433  0.59523810  0.66631130 -0.75515281 -1.49253731 -0.82622601 \n",
       "        PAK         PAL         PHI         PNG         PRC         REG \n",
       " 3.34044065  0.00000000 -0.38201848 -0.52416489 -1.94562900 11.24733475 \n",
       "        RMI         SAM         SIN         SOL         SRI         TAJ \n",
       "-0.74626866  0.00000000  0.00000000 -0.15103056 -1.49253731 -0.37313433 \n",
       "        TAP         THA         TIM         TKM         TON         TUV \n",
       " 0.00000000 -2.23880597  0.22210377 -0.37313433  0.22210377  0.00000000 \n",
       "        UZB         VAN         VIE \n",
       " 0.22210377 -0.74626866  1.48365316 "
      ]
     },
     "metadata": {},
     "output_type": "display_data"
    }
   ],
   "source": [
    "# Compares the \"Country\" feature\n",
    "(table(df_TopQuant$Country) / length(df_TopQuant$Country) * 100) - \n",
    "  (table(df_BottomQuant$Country) / length(df_BottomQuant$Country) * 100)\n"
   ]
  },
  {
   "cell_type": "markdown",
   "metadata": {},
   "source": [
    "*Answer*:\n",
    "\n",
    "We cannot draw a causal conclusion about the effect of budget size on rating because we cannot observe any statistically significant difference between samples. The differences between the top 10% and bottom 10% are around 2% when we compare the rates, which is very small. Furthermore, even if there is a slight difference, the standard deviation for both is high (over 0.55), which can possibly justify the difference between sample means.\n",
    "\n",
    "A causal inference is a comparison of potential outcomes for a given unit. Because the samples here don't represent the same unit --we would need the same type of projects with variations in budget to evaluate ratings-- we are incapable of drawing causal conclusions.\n",
    "\n",
    "Even if we can see differences when analyzing other characteristics (as we could with Country and Cluster), those other characteristics still inhibit us from causal inference as forementioned. Also, the data is observational, so it's unbalanced across treatment and control group.\n",
    "\n"
   ]
  },
  {
   "cell_type": "markdown",
   "metadata": {},
   "source": [
    "# Question 5"
   ]
  },
  {
   "cell_type": "markdown",
   "metadata": {},
   "source": [
    "Imagine your manager asks you to apply Jeremy Howard’s drivetrain model to the problem of optimal budget-setting to minimize project completion delays (i.e., the difference between revised and original completion dates). In such a situation, what would be the:"
   ]
  },
  {
   "cell_type": "markdown",
   "metadata": {},
   "source": [
    "(a) Decision problem or objective?\n",
    "\n",
    "*Answer*: How can we minimize the completion delay of projects?\n",
    "\n",
    "\n",
    "(b) Lever or levers?\n",
    "\n",
    "*Answer*: 1. Budget allocation; 2. Original completion date set\n",
    "\n",
    "\n",
    "(c) Ideal RCT design?\n",
    "\n",
    "*Answer*: In the ideal design we would have very similar projects, and then divide them randomly into two groups (control and test). For the test group we can allocate budget randomly, and for the control group we can use historical data to set the average budget. In doing so, we are making budget comparable because characteristics will start overlapping. Lastly, we would want to measure the difference in ratings. Furthermore, it's unlikely that two projects will have exact same values for all variables, so we would try to study those that have different variables which are as close as possible.\n",
    "\n",
    "\n",
    "(d) Dependent variable(s) and independent variable(s) in the modeler?\n",
    "\n",
    "*Answer:* The dependent variable will be delay (measured as the difference between revised and original completion dates). The independent variable will be budget allocated\n",
    " \n",
    " \n",
    "(e) Why would running RCTs and modeling/optimizing over RCT results be preferable to\n",
    "using (observational, non-RCT) “foo” data?\n",
    "\n",
    "*Answer*: RCTS are the most effective method for evaluating relationships between independent and dependent variables. When we randomly assign to groups we are mitigating selection and sample bias, that is, choosing projects that might have characteristics the researcher belives will have ideal results. Furthermore, by choosing projects with the same characteristics, we are comparing the same unit with different variations in the independent variable, which is impossible in observational data due to confounding variables (other unnacounted variables that can affect our dependent variable).\n",
    "\n"
   ]
  }
 ],
 "metadata": {
  "kernelspec": {
   "display_name": "R",
   "language": "R",
   "name": "ir"
  },
  "language_info": {
   "codemirror_mode": "r",
   "file_extension": ".r",
   "mimetype": "text/x-r-source",
   "name": "R",
   "pygments_lexer": "r",
   "version": "3.6.1"
  }
 },
 "nbformat": 4,
 "nbformat_minor": 2
}
