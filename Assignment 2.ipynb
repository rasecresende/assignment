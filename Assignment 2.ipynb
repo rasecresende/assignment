{
 "cells": [
  {
   "cell_type": "code",
   "execution_count": 1,
   "metadata": {},
   "outputs": [
    {
     "name": "stderr",
     "output_type": "stream",
     "text": [
      "Warning message:\n",
      "\"package 'arm' was built under R version 3.6.2\"Loading required package: MASS\n",
      "Loading required package: Matrix\n",
      "Loading required package: lme4\n",
      "Warning message:\n",
      "\"package 'lme4' was built under R version 3.6.2\"\n",
      "arm (Version 1.10-1, built: 2018-4-12)\n",
      "\n",
      "Working directory is C:/Users/jrese\n",
      "\n"
     ]
    },
    {
     "data": {
      "text/html": [
       "<table>\n",
       "<thead><tr><th scope=col>post.test</th><th scope=col>pre.test</th><th scope=col>treatment</th></tr></thead>\n",
       "<tbody>\n",
       "\t<tr><td>116.2</td><td>105.9</td><td>1    </td></tr>\n",
       "\t<tr><td>116.9</td><td>100.8</td><td>1    </td></tr>\n",
       "\t<tr><td>106.9</td><td> 91.7</td><td>1    </td></tr>\n",
       "\t<tr><td>104.6</td><td> 97.5</td><td>1    </td></tr>\n",
       "\t<tr><td>114.2</td><td>106.5</td><td>1    </td></tr>\n",
       "\t<tr><td>113.6</td><td>107.4</td><td>1    </td></tr>\n",
       "\t<tr><td>116.6</td><td>111.4</td><td>1    </td></tr>\n",
       "\t<tr><td>114.8</td><td>110.0</td><td>1    </td></tr>\n",
       "\t<tr><td>114.9</td><td>106.9</td><td>1    </td></tr>\n",
       "\t<tr><td>111.0</td><td>106.7</td><td>1    </td></tr>\n",
       "\t<tr><td>113.9</td><td>104.1</td><td>1    </td></tr>\n",
       "\t<tr><td>115.6</td><td>109.7</td><td>1    </td></tr>\n",
       "\t<tr><td>116.2</td><td>110.6</td><td>1    </td></tr>\n",
       "\t<tr><td>119.6</td><td>115.2</td><td>1    </td></tr>\n",
       "\t<tr><td>109.6</td><td>101.9</td><td>1    </td></tr>\n",
       "\t<tr><td>122.0</td><td>119.8</td><td>1    </td></tr>\n",
       "\t<tr><td>109.7</td><td>108.8</td><td>1    </td></tr>\n",
       "\t<tr><td>112.4</td><td>104.6</td><td>1    </td></tr>\n",
       "\t<tr><td>115.5</td><td>111.1</td><td>1    </td></tr>\n",
       "\t<tr><td>119.7</td><td>115.5</td><td>1    </td></tr>\n",
       "\t<tr><td>111.5</td><td>107.2</td><td>1    </td></tr>\n",
       "\t<tr><td> 95.5</td><td> 81.2</td><td>0    </td></tr>\n",
       "\t<tr><td>109.4</td><td>102.5</td><td>0    </td></tr>\n",
       "\t<tr><td> 94.0</td><td> 78.4</td><td>0    </td></tr>\n",
       "\t<tr><td>101.0</td><td> 91.9</td><td>0    </td></tr>\n",
       "\t<tr><td>115.3</td><td>110.3</td><td>0    </td></tr>\n",
       "\t<tr><td>110.6</td><td>104.9</td><td>0    </td></tr>\n",
       "\t<tr><td> 96.0</td><td> 89.7</td><td>0    </td></tr>\n",
       "\t<tr><td>111.7</td><td>106.2</td><td>0    </td></tr>\n",
       "\t<tr><td>115.9</td><td>106.2</td><td>0    </td></tr>\n",
       "\t<tr><td>113.9</td><td>111.9</td><td>0    </td></tr>\n",
       "\t<tr><td>114.4</td><td>109.4</td><td>0    </td></tr>\n",
       "\t<tr><td>116.2</td><td>111.8</td><td>0    </td></tr>\n",
       "\t<tr><td>115.7</td><td>112.1</td><td>0    </td></tr>\n",
       "\t<tr><td>118.0</td><td>113.9</td><td>0    </td></tr>\n",
       "\t<tr><td>110.9</td><td>106.3</td><td>0    </td></tr>\n",
       "\t<tr><td>113.4</td><td>110.8</td><td>0    </td></tr>\n",
       "\t<tr><td>111.2</td><td>107.5</td><td>0    </td></tr>\n",
       "\t<tr><td>113.3</td><td>110.0</td><td>0    </td></tr>\n",
       "\t<tr><td>115.9</td><td>111.6</td><td>0    </td></tr>\n",
       "\t<tr><td>115.2</td><td>109.8</td><td>0    </td></tr>\n",
       "\t<tr><td>110.0</td><td>102.6</td><td>0    </td></tr>\n",
       "</tbody>\n",
       "</table>\n"
      ],
      "text/latex": [
       "\\begin{tabular}{r|lll}\n",
       " post.test & pre.test & treatment\\\\\n",
       "\\hline\n",
       "\t 116.2 & 105.9 & 1    \\\\\n",
       "\t 116.9 & 100.8 & 1    \\\\\n",
       "\t 106.9 &  91.7 & 1    \\\\\n",
       "\t 104.6 &  97.5 & 1    \\\\\n",
       "\t 114.2 & 106.5 & 1    \\\\\n",
       "\t 113.6 & 107.4 & 1    \\\\\n",
       "\t 116.6 & 111.4 & 1    \\\\\n",
       "\t 114.8 & 110.0 & 1    \\\\\n",
       "\t 114.9 & 106.9 & 1    \\\\\n",
       "\t 111.0 & 106.7 & 1    \\\\\n",
       "\t 113.9 & 104.1 & 1    \\\\\n",
       "\t 115.6 & 109.7 & 1    \\\\\n",
       "\t 116.2 & 110.6 & 1    \\\\\n",
       "\t 119.6 & 115.2 & 1    \\\\\n",
       "\t 109.6 & 101.9 & 1    \\\\\n",
       "\t 122.0 & 119.8 & 1    \\\\\n",
       "\t 109.7 & 108.8 & 1    \\\\\n",
       "\t 112.4 & 104.6 & 1    \\\\\n",
       "\t 115.5 & 111.1 & 1    \\\\\n",
       "\t 119.7 & 115.5 & 1    \\\\\n",
       "\t 111.5 & 107.2 & 1    \\\\\n",
       "\t  95.5 &  81.2 & 0    \\\\\n",
       "\t 109.4 & 102.5 & 0    \\\\\n",
       "\t  94.0 &  78.4 & 0    \\\\\n",
       "\t 101.0 &  91.9 & 0    \\\\\n",
       "\t 115.3 & 110.3 & 0    \\\\\n",
       "\t 110.6 & 104.9 & 0    \\\\\n",
       "\t  96.0 &  89.7 & 0    \\\\\n",
       "\t 111.7 & 106.2 & 0    \\\\\n",
       "\t 115.9 & 106.2 & 0    \\\\\n",
       "\t 113.9 & 111.9 & 0    \\\\\n",
       "\t 114.4 & 109.4 & 0    \\\\\n",
       "\t 116.2 & 111.8 & 0    \\\\\n",
       "\t 115.7 & 112.1 & 0    \\\\\n",
       "\t 118.0 & 113.9 & 0    \\\\\n",
       "\t 110.9 & 106.3 & 0    \\\\\n",
       "\t 113.4 & 110.8 & 0    \\\\\n",
       "\t 111.2 & 107.5 & 0    \\\\\n",
       "\t 113.3 & 110.0 & 0    \\\\\n",
       "\t 115.9 & 111.6 & 0    \\\\\n",
       "\t 115.2 & 109.8 & 0    \\\\\n",
       "\t 110.0 & 102.6 & 0    \\\\\n",
       "\\end{tabular}\n"
      ],
      "text/markdown": [
       "\n",
       "| post.test | pre.test | treatment |\n",
       "|---|---|---|\n",
       "| 116.2 | 105.9 | 1     |\n",
       "| 116.9 | 100.8 | 1     |\n",
       "| 106.9 |  91.7 | 1     |\n",
       "| 104.6 |  97.5 | 1     |\n",
       "| 114.2 | 106.5 | 1     |\n",
       "| 113.6 | 107.4 | 1     |\n",
       "| 116.6 | 111.4 | 1     |\n",
       "| 114.8 | 110.0 | 1     |\n",
       "| 114.9 | 106.9 | 1     |\n",
       "| 111.0 | 106.7 | 1     |\n",
       "| 113.9 | 104.1 | 1     |\n",
       "| 115.6 | 109.7 | 1     |\n",
       "| 116.2 | 110.6 | 1     |\n",
       "| 119.6 | 115.2 | 1     |\n",
       "| 109.6 | 101.9 | 1     |\n",
       "| 122.0 | 119.8 | 1     |\n",
       "| 109.7 | 108.8 | 1     |\n",
       "| 112.4 | 104.6 | 1     |\n",
       "| 115.5 | 111.1 | 1     |\n",
       "| 119.7 | 115.5 | 1     |\n",
       "| 111.5 | 107.2 | 1     |\n",
       "|  95.5 |  81.2 | 0     |\n",
       "| 109.4 | 102.5 | 0     |\n",
       "|  94.0 |  78.4 | 0     |\n",
       "| 101.0 |  91.9 | 0     |\n",
       "| 115.3 | 110.3 | 0     |\n",
       "| 110.6 | 104.9 | 0     |\n",
       "|  96.0 |  89.7 | 0     |\n",
       "| 111.7 | 106.2 | 0     |\n",
       "| 115.9 | 106.2 | 0     |\n",
       "| 113.9 | 111.9 | 0     |\n",
       "| 114.4 | 109.4 | 0     |\n",
       "| 116.2 | 111.8 | 0     |\n",
       "| 115.7 | 112.1 | 0     |\n",
       "| 118.0 | 113.9 | 0     |\n",
       "| 110.9 | 106.3 | 0     |\n",
       "| 113.4 | 110.8 | 0     |\n",
       "| 111.2 | 107.5 | 0     |\n",
       "| 113.3 | 110.0 | 0     |\n",
       "| 115.9 | 111.6 | 0     |\n",
       "| 115.2 | 109.8 | 0     |\n",
       "| 110.0 | 102.6 | 0     |\n",
       "\n"
      ],
      "text/plain": [
       "   post.test pre.test treatment\n",
       "1  116.2     105.9    1        \n",
       "2  116.9     100.8    1        \n",
       "3  106.9      91.7    1        \n",
       "4  104.6      97.5    1        \n",
       "5  114.2     106.5    1        \n",
       "6  113.6     107.4    1        \n",
       "7  116.6     111.4    1        \n",
       "8  114.8     110.0    1        \n",
       "9  114.9     106.9    1        \n",
       "10 111.0     106.7    1        \n",
       "11 113.9     104.1    1        \n",
       "12 115.6     109.7    1        \n",
       "13 116.2     110.6    1        \n",
       "14 119.6     115.2    1        \n",
       "15 109.6     101.9    1        \n",
       "16 122.0     119.8    1        \n",
       "17 109.7     108.8    1        \n",
       "18 112.4     104.6    1        \n",
       "19 115.5     111.1    1        \n",
       "20 119.7     115.5    1        \n",
       "21 111.5     107.2    1        \n",
       "22  95.5      81.2    0        \n",
       "23 109.4     102.5    0        \n",
       "24  94.0      78.4    0        \n",
       "25 101.0      91.9    0        \n",
       "26 115.3     110.3    0        \n",
       "27 110.6     104.9    0        \n",
       "28  96.0      89.7    0        \n",
       "29 111.7     106.2    0        \n",
       "30 115.9     106.2    0        \n",
       "31 113.9     111.9    0        \n",
       "32 114.4     109.4    0        \n",
       "33 116.2     111.8    0        \n",
       "34 115.7     112.1    0        \n",
       "35 118.0     113.9    0        \n",
       "36 110.9     106.3    0        \n",
       "37 113.4     110.8    0        \n",
       "38 111.2     107.5    0        \n",
       "39 113.3     110.0    0        \n",
       "40 115.9     111.6    0        \n",
       "41 115.2     109.8    0        \n",
       "42 110.0     102.6    0        "
      ]
     },
     "metadata": {},
     "output_type": "display_data"
    }
   ],
   "source": [
    "sesame <- read.csv(\"https://tinyurl.com/wlgl63b\")\n",
    "library(arm)\n",
    "sesame"
   ]
  },
  {
   "cell_type": "code",
   "execution_count": 2,
   "metadata": {},
   "outputs": [
    {
     "data": {
      "image/png": "[encoded data removed]",
      "text/plain": [
       "Plot with title \"Grade 4\""
      ]
     },
     "metadata": {},
     "output_type": "display_data"
    }
   ],
   "source": [
    "#QUESTION 1(A)\n",
    "\n",
    "treatment_group <- subset(sesame, sesame$treatment == 1)\n",
    "lm.t <- lm(treatment_group$post.test ~ treatment_group$pre.test)\n",
    "control_group <- subset(sesame, sesame$treatment == 0)\n",
    "lm.c <- lm(control_group$post.test ~ control_group$pre.test)\n",
    "treatment_group1 <- subset(sesame, sesame$treatment == 1)\n",
    "\n",
    "# Generating plot\n",
    "plot(treatment_group$pre.test, treatment_group$post.test,\n",
    "     main = \"Grade 4\",\n",
    "     xlab = \"Pre-test, X\",\n",
    "     ylab = \"Post-test, Y\",\n",
    "     xlim = c(0, 120),\n",
    "     ylim = c(0, 120),\n",
    "     pch = 1\n",
    "    )\n",
    "points(control_group$pre.test, control_group$post.test, pch = 16)\n",
    "abline(a = coef(lm.t)[1],\n",
    "       b = coef(lm.t)[2],\n",
    "       lty = 1)\n",
    "abline(a = coef(lm.c)[1],\n",
    "       b = coef(lm.c)[2],\n",
    "       lty = 2)"
   ]
  },
  {
   "cell_type": "code",
   "execution_count": 3,
   "metadata": {},
   "outputs": [
    {
     "data": {
      "image/png": "[encoded data removed]",
      "text/plain": [
       "Plot with title \"Grade 4\""
      ]
     },
     "metadata": {},
     "output_type": "display_data"
    }
   ],
   "source": [
    "#Question 1(B)\n",
    "leverage.p = treatment_group[11,]\n",
    "modified.l = c(70, 104.1, 1)\n",
    "treatment_group[11,] = modified.l\n",
    "\n",
    "plot(treatment_group$pre.test, treatment_group$post.test,\n",
    "    col=ifelse(treatment_group$post.test == 70, \"red\", \"black\"),\n",
    "     main = \"Grade 4\",\n",
    "     xlab = \"Pre-test, X\",\n",
    "     ylab = \"Post-test, Y\",\n",
    "     xlim = c(0, 120),\n",
    "     ylim = c(0, 120),\n",
    "     pch = 1\n",
    "    )\n",
    "\n",
    "\n",
    "points(control_group$pre.test, control_group$post.test, pch = 16)\n",
    "abline(lm(treatment_group$post.test ~ treatment_group$pre.test), lty = 1)\n",
    "abline(a = coef(lm.c)[1],\n",
    "       b = coef(lm.c)[2],\n",
    "       lty = 2)"
   ]
  },
  {
   "cell_type": "code",
   "execution_count": 4,
   "metadata": {
    "scrolled": true
   },
   "outputs": [
    {
     "data": {
      "image/png": "[encoded data removed]",
      "text/plain": [
       "Plot with title \"treatment effect in grade 4\""
      ]
     },
     "metadata": {},
     "output_type": "display_data"
    }
   ],
   "source": [
    "#Question 1(C)\n",
    "lm.4 <- lm(sesame$post.test ~ sesame$treatment + sesame$pre.test + sesame$treatment:sesame$pre.test)\n",
    "lm.4.sim <- sim(lm.4)\n",
    "plot (0, 0, xlim=range (sesame$pre.test), ylim=c(-5,10),\n",
    "xlab=\"pre-test\", ylab=\"treatment effect\",\n",
    "main=\"treatment effect in grade 4\")\n",
    "abline (0, 0, lwd=.5, lty=2)\n",
    "\n",
    "for (i in 1:20){\n",
    "curve(coef(lm.4.sim)[i,2] + coef(lm.4.sim)[i,4]*x, lwd=.5, col=\"gray\",\n",
    "add=TRUE)}\n",
    "\n",
    "curve (coef(lm.4)[2] + coef(lm.4)[4]*x, lwd=.5, add=TRUE)"
   ]
  },
  {
   "cell_type": "code",
   "execution_count": 5,
   "metadata": {},
   "outputs": [],
   "source": [
    "#Question 2(A)\n",
    "\n",
    "tinting = read.csv(url(\"https://tinyurl.com/v4bq99k\"))\n",
    "\n",
    "\n",
    "set.seed(123)\n",
    "\n",
    "lm1 <- lm(csoa~age+sex+target+I(tint != \"no\")+ I(as.numeric(tint!=\"no\")*age), data = tinting)\n",
    "\n",
    "iterations = 10000\n",
    "\n",
    "sim_a <- sim(lm1, n.sims = iterations)"
   ]
  },
  {
   "cell_type": "code",
   "execution_count": 6,
   "metadata": {},
   "outputs": [
    {
     "data": {
      "text/html": [
       "<table>\n",
       "<thead><tr><th></th><th scope=col>Lower Bound</th><th scope=col>Upper Bound</th><th scope=col>Mean Expected Values</th></tr></thead>\n",
       "<tbody>\n",
       "\t<tr><th scope=row>20</th><td>32.35524</td><td>41.66999</td><td>36.98194</td></tr>\n",
       "\t<tr><th scope=row>30</th><td>36.16078</td><td>44.46785</td><td>40.27349</td></tr>\n",
       "\t<tr><th scope=row>40</th><td>39.69734</td><td>47.48070</td><td>43.56504</td></tr>\n",
       "\t<tr><th scope=row>50</th><td>42.98865</td><td>50.88717</td><td>46.85659</td></tr>\n",
       "\t<tr><th scope=row>60</th><td>45.95080</td><td>54.51645</td><td>50.14814</td></tr>\n",
       "\t<tr><th scope=row>70</th><td>48.63820</td><td>58.35574</td><td>53.43969</td></tr>\n",
       "\t<tr><th scope=row>80</th><td>51.14707</td><td>62.41348</td><td>56.73124</td></tr>\n",
       "</tbody>\n",
       "</table>\n"
      ],
      "text/latex": [
       "\\begin{tabular}{r|lll}\n",
       "  & Lower Bound & Upper Bound & Mean Expected Values\\\\\n",
       "\\hline\n",
       "\t20 & 32.35524 & 41.66999 & 36.98194\\\\\n",
       "\t30 & 36.16078 & 44.46785 & 40.27349\\\\\n",
       "\t40 & 39.69734 & 47.48070 & 43.56504\\\\\n",
       "\t50 & 42.98865 & 50.88717 & 46.85659\\\\\n",
       "\t60 & 45.95080 & 54.51645 & 50.14814\\\\\n",
       "\t70 & 48.63820 & 58.35574 & 53.43969\\\\\n",
       "\t80 & 51.14707 & 62.41348 & 56.73124\\\\\n",
       "\\end{tabular}\n"
      ],
      "text/markdown": [
       "\n",
       "| <!--/--> | Lower Bound | Upper Bound | Mean Expected Values |\n",
       "|---|---|---|---|\n",
       "| 20 | 32.35524 | 41.66999 | 36.98194 |\n",
       "| 30 | 36.16078 | 44.46785 | 40.27349 |\n",
       "| 40 | 39.69734 | 47.48070 | 43.56504 |\n",
       "| 50 | 42.98865 | 50.88717 | 46.85659 |\n",
       "| 60 | 45.95080 | 54.51645 | 50.14814 |\n",
       "| 70 | 48.63820 | 58.35574 | 53.43969 |\n",
       "| 80 | 51.14707 | 62.41348 | 56.73124 |\n",
       "\n"
      ],
      "text/plain": [
       "   Lower Bound Upper Bound Mean Expected Values\n",
       "20 32.35524    41.66999    36.98194            \n",
       "30 36.16078    44.46785    40.27349            \n",
       "40 39.69734    47.48070    43.56504            \n",
       "50 42.98865    50.88717    46.85659            \n",
       "60 45.95080    54.51645    50.14814            \n",
       "70 48.63820    58.35574    53.43969            \n",
       "80 51.14707    62.41348    56.73124            "
      ]
     },
     "metadata": {},
     "output_type": "display_data"
    }
   ],
   "source": [
    "# Predicting CSO\n",
    "\n",
    "\n",
    "ages <- c(20, 30, 40, 50, 60, 70, 80)\n",
    "\n",
    "simulated.ys_mean.trt <- matrix(NA, nrow = iterations, ncol = length(ages))\n",
    "\n",
    "for (age in ages) {\n",
    "Xs <- c(1, age, 0, 0, 1, 1*age)\n",
    "\n",
    "for (i in 1:iterations) {\n",
    "simulated.ys_mean.trt[i, ((age - min(ages))/10)+1] <- sum(Xs*sim_a@coef[i,]) \n",
    "  }\n",
    "}\n",
    "\n",
    "# Expected Mean\n",
    "e_mean <- c()\n",
    "for (i in 1:7){\n",
    "  e_mean[[i]] <- mean(simulated.ys_mean.trt[,i])\n",
    "}\n",
    "\n",
    "# Confidence Intervals\n",
    "conf.intervals_mean.trt <- apply(simulated.ys_mean.trt, 2, quantile, probs = c(0.025, 0.975))\n",
    "\n",
    "# Generating Table\n",
    "table_mean.trt <- t(data.frame(conf.intervals_mean.trt))\n",
    "table_mean.trt <- data.frame(table_mean.trt, expec_means)\n",
    "colnames(table_mean.trt) <- c(\"Lower Bound\", \"Upper Bound\", \"Mean Expected Values\")\n",
    "rownames(table_mean.trt) <- ages\n",
    "table_mean.trt"
   ]
  },
  {
   "cell_type": "code",
   "execution_count": 7,
   "metadata": {},
   "outputs": [
    {
     "data": {
      "image/png": "[encoded data removed]",
      "text/plain": [
       "Plot with title \"CSOA for typical female units with hicon target and ages 20,30,40,50,60,70,80\""
      ]
     },
     "metadata": {},
     "output_type": "display_data"
    }
   ],
   "source": [
    "# Plot the prediction intervals (y-axis) against age (x-axis)\n",
    "plot(x = c(1:100), y = c(1:100), type = \"n\", \n",
    "xlim <- c(20,80),\n",
    "ylim <- c(-0,75), \n",
    "main <- \"CSOA for typical female units with hicon target and ages 20,30,40,50,60,70,80\", xlab = \"Age\", \n",
    "ylab <- \"CSOA\")\n",
    "\n",
    "\n",
    "for (age in ages) {\n",
    "  segments(\n",
    "x0 = age,\n",
    "y0 = conf.intervals_mean.trt[1, ((age - min(ages))/10)+1],\n",
    "x1 = age,\n",
    "y1 = conf.intervals_mean.trt[2, ((age - min(ages))/10)+1],\n",
    "lwd = 2)\n",
    "}"
   ]
  },
  {
   "cell_type": "code",
   "execution_count": 8,
   "metadata": {},
   "outputs": [
    {
     "name": "stderr",
     "output_type": "stream",
     "text": [
      "Warning message:\n",
      "\"package 'Matching' was built under R version 3.6.2\"## \n",
      "##  Matching (Version 4.9-6, Build Date: 2019-04-07)\n",
      "##  See http://sekhon.berkeley.edu/matching for additional documentation.\n",
      "##  Please cite software as:\n",
      "##   Jasjeet S. Sekhon. 2011. ``Multivariate and Propensity Score Matching\n",
      "##   Software with Automated Balance Optimization: The Matching package for R.''\n",
      "##   Journal of Statistical Software, 42(7): 1-52. \n",
      "##\n",
      "\n"
     ]
    }
   ],
   "source": [
    "#Question 3\n",
    "library(Matching)\n",
    "data('lalonde')\n",
    "\n",
    "rsq <- function(actual, predicted) {\n",
    "    rss = sum((predicted - actual) ^ 2)\n",
    "    tss = sum((actual - mean(actual)) ^ 2)\n",
    "    rsq = (1 - rss / tss)\n",
    "    return (rsq)\n",
    "}\n",
    "\n",
    "\n",
    "#preds <- c(1, 2, 3)\n",
    "#actual <- c(2, 2, 4)\n",
    "#rss <- sum((preds - actual) ^ 2)  ## residual sum of squares\n",
    "#tss <- sum((actual - mean(actual)) ^ 2)  ## total sum of squares\n",
    "#rsq <- 1 - rss/tss"
   ]
  },
  {
   "cell_type": "code",
   "execution_count": 9,
   "metadata": {},
   "outputs": [
    {
     "data": {
      "text/html": [
       "-0.46345786257809"
      ],
      "text/latex": [
       "-0.46345786257809"
      ],
      "text/markdown": [
       "-0.46345786257809"
      ],
      "text/plain": [
       "[1] -0.4634579"
      ]
     },
     "metadata": {},
     "output_type": "display_data"
    },
    {
     "data": {
      "text/html": [
       "0.0134944343382562"
      ],
      "text/latex": [
       "0.0134944343382562"
      ],
      "text/markdown": [
       "0.0134944343382562"
      ],
      "text/plain": [
       "[1] 0.01349443"
      ]
     },
     "metadata": {},
     "output_type": "display_data"
    }
   ],
   "source": [
    "lm.example <- lm(re78 ~ educ, data = lalonde)\n",
    "\n",
    "educ <- c()\n",
    "actual <- c()\n",
    "predicted <- c()\n",
    "\n",
    "for (i in 1:dim(lalonde)[1]) {\n",
    "    educ[i] = lalonde[i,2]\n",
    "    actual[i] = lalonde[i,9]\n",
    "    predicted[i]= lalonde[i,2] * coef(lm.example)[1] + coef(lm.example)[2]\n",
    "}\n",
    "\n",
    "rsq(actual, predicted)\n",
    "summary(lm.example)$r.squared"
   ]
  },
  {
   "cell_type": "code",
   "execution_count": null,
   "metadata": {},
   "outputs": [],
   "source": [
    "#Question 4\n",
    "\n",
    "library(foreign)\n",
    "#Loads necessery data set\n",
    "foo <- read.dta('mazedata1.dta')\n",
    "# head(foo)\n",
    "\n",
    "treat <- subset(foo, foo$treatment == 'Caste Revealed')\n",
    "control <- subset(foo, foo$treatment != 'Caste Revealed')\n",
    "\n",
    "storage <- c()\n",
    "\n",
    "# runs a bootstrap by sampling with replacement on index and applies them\n",
    "for(i in 1:10000){\n",
    "    #treatment\n",
    "    dependent.t <- foo$round1[sample(length(treat),length(treat),replace = TRUE)]\n",
    "    mean.treat <- mean(dependent.t, na.rm = TRUE)\n",
    "    #control\n",
    "    dependent.c <- foo$round1[sample(length(control), length(control), replace = TRUE)]\n",
    "    mean.control <- mean(dependent.c, na.rm = TRUE)\n",
    "    storage[i] <- mean.treat - mean.control\n",
    "}"
   ]
  },
  {
   "cell_type": "code",
   "execution_count": 11,
   "metadata": {},
   "outputs": [
    {
     "data": {
      "text/html": [
       "<table>\n",
       "<thead><tr><th></th><th scope=col>Bootstrapped</th><th scope=col>Regression</th></tr></thead>\n",
       "<tbody>\n",
       "\t<tr><th scope=row>2.5%</th><td>-0.8846154</td><td>-0.2893112</td></tr>\n",
       "\t<tr><th scope=row>97.5%</th><td> 0.8846154</td><td> 0.6752087</td></tr>\n",
       "</tbody>\n",
       "</table>\n"
      ],
      "text/latex": [
       "\\begin{tabular}{r|ll}\n",
       "  & Bootstrapped & Regression\\\\\n",
       "\\hline\n",
       "\t2.5\\% & -0.8846154 & -0.2893112\\\\\n",
       "\t97.5\\% &  0.8846154 &  0.6752087\\\\\n",
       "\\end{tabular}\n"
      ],
      "text/markdown": [
       "\n",
       "| <!--/--> | Bootstrapped | Regression |\n",
       "|---|---|---|\n",
       "| 2.5% | -0.8846154 | -0.2893112 |\n",
       "| 97.5% |  0.8846154 |  0.6752087 |\n",
       "\n"
      ],
      "text/plain": [
       "      Bootstrapped Regression\n",
       "2.5%  -0.8846154   -0.2893112\n",
       "97.5%  0.8846154    0.6752087"
      ]
     },
     "metadata": {},
     "output_type": "display_data"
    }
   ],
   "source": [
    "#95% interval - bootstrapped values\n",
    "interval.b <- quantile(storage, probs = c(0.025, 0.975))\n",
    "\n",
    "#regression model and confint\n",
    "regression <- lm(round1~treatment, data=foo)\n",
    "interval <- confint(regression, level = 0.95)[2,]\n",
    "\n",
    "#table\n",
    "table <- data.frame('Bootstrapped'= interval.b, 'Regression'= interval)\n",
    "table"
   ]
  },
  {
   "cell_type": "code",
   "execution_count": 12,
   "metadata": {},
   "outputs": [
    {
     "data": {
      "image/png": "[encoded data removed]",
      "text/plain": [
       "Plot with title \"Histogram of bootstrapped treatment effect w/ 95% Interval\""
      ]
     },
     "metadata": {},
     "output_type": "display_data"
    }
   ],
   "source": [
    "#histogram\n",
    "hist(storage, main = \"Histogram of bootstrapped treatment effect w/ 95% Interval\", xlab= \"Treatment effect\")\n",
    "\n",
    "abline(v = interval.b)"
   ]
  },
  {
   "cell_type": "code",
   "execution_count": 1,
   "metadata": {},
   "outputs": [
    {
     "data": {
      "text/html": [
       "<table>\n",
       "<thead><tr><th scope=col>treat</th><th scope=col>age</th><th scope=col>education</th><th scope=col>black</th><th scope=col>hispanic</th><th scope=col>married</th><th scope=col>nodegree</th><th scope=col>re74</th><th scope=col>re75</th><th scope=col>re78</th><th scope=col>u74</th><th scope=col>u75</th></tr></thead>\n",
       "<tbody>\n",
       "\t<tr><td>1         </td><td>37        </td><td>11        </td><td>1         </td><td>0         </td><td>1         </td><td>1         </td><td>0         </td><td>0         </td><td> 9930.0459</td><td>TRUE      </td><td>TRUE      </td></tr>\n",
       "\t<tr><td>1         </td><td>22        </td><td> 9        </td><td>0         </td><td>1         </td><td>0         </td><td>1         </td><td>0         </td><td>0         </td><td> 3595.8940</td><td>TRUE      </td><td>TRUE      </td></tr>\n",
       "\t<tr><td>1         </td><td>30        </td><td>12        </td><td>1         </td><td>0         </td><td>0         </td><td>0         </td><td>0         </td><td>0         </td><td>24909.4492</td><td>TRUE      </td><td>TRUE      </td></tr>\n",
       "\t<tr><td>1         </td><td>27        </td><td>11        </td><td>1         </td><td>0         </td><td>0         </td><td>1         </td><td>0         </td><td>0         </td><td> 7506.1460</td><td>TRUE      </td><td>TRUE      </td></tr>\n",
       "\t<tr><td>1         </td><td>33        </td><td> 8        </td><td>1         </td><td>0         </td><td>0         </td><td>1         </td><td>0         </td><td>0         </td><td>  289.7899</td><td>TRUE      </td><td>TRUE      </td></tr>\n",
       "\t<tr><td>1         </td><td>22        </td><td> 9        </td><td>1         </td><td>0         </td><td>0         </td><td>1         </td><td>0         </td><td>0         </td><td> 4056.4939</td><td>TRUE      </td><td>TRUE      </td></tr>\n",
       "</tbody>\n",
       "</table>\n"
      ],
      "text/latex": [
       "\\begin{tabular}{r|llllllllllll}\n",
       " treat & age & education & black & hispanic & married & nodegree & re74 & re75 & re78 & u74 & u75\\\\\n",
       "\\hline\n",
       "\t 1          & 37         & 11         & 1          & 0          & 1          & 1          & 0          & 0          &  9930.0459 & TRUE       & TRUE      \\\\\n",
       "\t 1          & 22         &  9         & 0          & 1          & 0          & 1          & 0          & 0          &  3595.8940 & TRUE       & TRUE      \\\\\n",
       "\t 1          & 30         & 12         & 1          & 0          & 0          & 0          & 0          & 0          & 24909.4492 & TRUE       & TRUE      \\\\\n",
       "\t 1          & 27         & 11         & 1          & 0          & 0          & 1          & 0          & 0          &  7506.1460 & TRUE       & TRUE      \\\\\n",
       "\t 1          & 33         &  8         & 1          & 0          & 0          & 1          & 0          & 0          &   289.7899 & TRUE       & TRUE      \\\\\n",
       "\t 1          & 22         &  9         & 1          & 0          & 0          & 1          & 0          & 0          &  4056.4939 & TRUE       & TRUE      \\\\\n",
       "\\end{tabular}\n"
      ],
      "text/markdown": [
       "\n",
       "| treat | age | education | black | hispanic | married | nodegree | re74 | re75 | re78 | u74 | u75 |\n",
       "|---|---|---|---|---|---|---|---|---|---|---|---|\n",
       "| 1          | 37         | 11         | 1          | 0          | 1          | 1          | 0          | 0          |  9930.0459 | TRUE       | TRUE       |\n",
       "| 1          | 22         |  9         | 0          | 1          | 0          | 1          | 0          | 0          |  3595.8940 | TRUE       | TRUE       |\n",
       "| 1          | 30         | 12         | 1          | 0          | 0          | 0          | 0          | 0          | 24909.4492 | TRUE       | TRUE       |\n",
       "| 1          | 27         | 11         | 1          | 0          | 0          | 1          | 0          | 0          |  7506.1460 | TRUE       | TRUE       |\n",
       "| 1          | 33         |  8         | 1          | 0          | 0          | 1          | 0          | 0          |   289.7899 | TRUE       | TRUE       |\n",
       "| 1          | 22         |  9         | 1          | 0          | 0          | 1          | 0          | 0          |  4056.4939 | TRUE       | TRUE       |\n",
       "\n"
      ],
      "text/plain": [
       "  treat age education black hispanic married nodegree re74 re75 re78       u74 \n",
       "1 1     37  11        1     0        1       1        0    0     9930.0459 TRUE\n",
       "2 1     22   9        0     1        0       1        0    0     3595.8940 TRUE\n",
       "3 1     30  12        1     0        0       0        0    0    24909.4492 TRUE\n",
       "4 1     27  11        1     0        0       1        0    0     7506.1460 TRUE\n",
       "5 1     33   8        1     0        0       1        0    0      289.7899 TRUE\n",
       "6 1     22   9        1     0        0       1        0    0     4056.4939 TRUE\n",
       "  u75 \n",
       "1 TRUE\n",
       "2 TRUE\n",
       "3 TRUE\n",
       "4 TRUE\n",
       "5 TRUE\n",
       "6 TRUE"
      ]
     },
     "metadata": {},
     "output_type": "display_data"
    }
   ],
   "source": [
    "#Question 5\n",
    "\n",
    "library(boot)\n",
    "\n",
    "foo1 <- read.csv(url(\"https://tinyurl.com/yx8tqf3k\"))\n",
    "head(foo1)\n",
    "set.seed(12345)\n",
    "test_set_rows = sample(1:length(foo1$age), 2000, replace = FALSE)\n",
    "\n",
    "training <- foo1[-test_set_rows,]\n",
    "test <- foo1[test_set_rows,]\n",
    "\n",
    "#simple \n",
    "simple.m <- glm(treat~age,data=training)\n",
    "#complex\n",
    "complex.m <- glm(treat~.-re78,data=training)\n"
   ]
  },
  {
   "cell_type": "code",
   "execution_count": 2,
   "metadata": {},
   "outputs": [],
   "source": [
    "#runs LOOCV on models \n",
    "loocv.simple <- cv.glm(training,simple.m)\n",
    "loocv.complex <- cv.glm(training,complex.m)\n"
   ]
  },
  {
   "cell_type": "code",
   "execution_count": 3,
   "metadata": {},
   "outputs": [],
   "source": [
    "#runs 10-fold CV \n",
    "cv.simple <- cv.glm(training,simple.m, K = 10)\n",
    "cv.complex <- cv.glm(training,complex.m, K = 10)\n",
    "\n",
    "# test MSE from the models\n",
    "test.simple <- mean((test$treat - predict.glm(simple.m,test))^2)\n",
    "test.complex <- mean((test$treat - predict.glm(complex.m,test))^2)"
   ]
  },
  {
   "cell_type": "code",
   "execution_count": 17,
   "metadata": {},
   "outputs": [
    {
     "data": {
      "text/html": [
       "<table>\n",
       "<thead><tr><th></th><th scope=col>Ten.fold</th><th scope=col>LOOCV</th><th scope=col>Test.set.error</th></tr></thead>\n",
       "<tbody>\n",
       "\t<tr><th scope=row>Simple_model</th><td>0.011374458</td><td>0.01137299 </td><td>0.010381819</td></tr>\n",
       "\t<tr><th scope=row>Complex_model</th><td>0.009997288</td><td>0.01000127 </td><td>0.009124118</td></tr>\n",
       "</tbody>\n",
       "</table>\n"
      ],
      "text/latex": [
       "\\begin{tabular}{r|lll}\n",
       "  & Ten.fold & LOOCV & Test.set.error\\\\\n",
       "\\hline\n",
       "\tSimple\\_model & 0.011374458 & 0.01137299  & 0.010381819\\\\\n",
       "\tComplex\\_model & 0.009997288 & 0.01000127  & 0.009124118\\\\\n",
       "\\end{tabular}\n"
      ],
      "text/markdown": [
       "\n",
       "| <!--/--> | Ten.fold | LOOCV | Test.set.error |\n",
       "|---|---|---|---|\n",
       "| Simple_model | 0.011374458 | 0.01137299  | 0.010381819 |\n",
       "| Complex_model | 0.009997288 | 0.01000127  | 0.009124118 |\n",
       "\n"
      ],
      "text/plain": [
       "              Ten.fold    LOOCV      Test.set.error\n",
       "Simple_model  0.011374458 0.01137299 0.010381819   \n",
       "Complex_model 0.009997288 0.01000127 0.009124118   "
      ]
     },
     "metadata": {},
     "output_type": "display_data"
    }
   ],
   "source": [
    "loocv <- c(loocv.simple$delta[1], loocv.complex$delta[1])\n",
    "cv <- c(cv.simple$delta[1], cv.complex$delta[1])\n",
    "test <- c(test.simple, test.complex)\n",
    "summary <- data.frame('Ten-fold' = cv, 'LOOCV' = loocv, 'Test-set error' = test)\n",
    "row.names(summary) <- c('Simple_model', 'Complex_model')\n",
    "summary"
   ]
  },
  {
   "cell_type": "code",
   "execution_count": 23,
   "metadata": {},
   "outputs": [
    {
     "data": {
      "text/html": [
       "'ten-fold is better'"
      ],
      "text/latex": [
       "'ten-fold is better'"
      ],
      "text/markdown": [
       "'ten-fold is better'"
      ],
      "text/plain": [
       "[1] \"ten-fold is better\""
      ]
     },
     "metadata": {},
     "output_type": "display_data"
    },
    {
     "data": {
      "text/html": [
       "<ol class=list-inline>\n",
       "\t<li>FALSE</li>\n",
       "\t<li>TRUE</li>\n",
       "</ol>\n"
      ],
      "text/latex": [
       "\\begin{enumerate*}\n",
       "\\item FALSE\n",
       "\\item TRUE\n",
       "\\end{enumerate*}\n"
      ],
      "text/markdown": [
       "1. FALSE\n",
       "2. TRUE\n",
       "\n",
       "\n"
      ],
      "text/plain": [
       "[1] FALSE  TRUE"
      ]
     },
     "metadata": {},
     "output_type": "display_data"
    },
    {
     "data": {
      "text/html": [
       "<ol class=list-inline>\n",
       "\t<li>0.000992638262218909</li>\n",
       "\t<li>0.000873169564497542</li>\n",
       "</ol>\n"
      ],
      "text/latex": [
       "\\begin{enumerate*}\n",
       "\\item 0.000992638262218909\n",
       "\\item 0.000873169564497542\n",
       "\\end{enumerate*}\n"
      ],
      "text/markdown": [
       "1. 0.000992638262218909\n",
       "2. 0.000873169564497542\n",
       "\n",
       "\n"
      ],
      "text/plain": [
       "[1] 0.0009926383 0.0008731696"
      ]
     },
     "metadata": {},
     "output_type": "display_data"
    },
    {
     "data": {
      "text/html": [
       "<ol class=list-inline>\n",
       "\t<li>0.000991173075062983</li>\n",
       "\t<li>0.000877152375613196</li>\n",
       "</ol>\n"
      ],
      "text/latex": [
       "\\begin{enumerate*}\n",
       "\\item 0.000991173075062983\n",
       "\\item 0.000877152375613196\n",
       "\\end{enumerate*}\n"
      ],
      "text/markdown": [
       "1. 0.000991173075062983\n",
       "2. 0.000877152375613196\n",
       "\n",
       "\n"
      ],
      "text/plain": [
       "[1] 0.0009911731 0.0008771524"
      ]
     },
     "metadata": {},
     "output_type": "display_data"
    }
   ],
   "source": [
    "\"ten-fold is better\"\n",
    "(cv - test) < (loocv - test)\n",
    "\n",
    "cv-test\n",
    "loocv-test"
   ]
  },
  {
   "cell_type": "code",
   "execution_count": 24,
   "metadata": {},
   "outputs": [
    {
     "data": {
      "image/png": "[encoded data removed]",
      "text/plain": [
       "Plot with title \"Alcohol Consumption - 95% Prediction Intervals\""
      ]
     },
     "metadata": {},
     "output_type": "display_data"
    }
   ],
   "source": [
    "trt = matrix(NA,nrow=2,ncol=7)\n",
    "ctrl = matrix(NA,nrow=2,ncol=7) \n",
    "\n",
    "trt[,1]=c(0, 2) #18\n",
    "ctrl[,1]=c(3, 10)\n",
    "trt[,2]=c(0, 3) #20\n",
    "ctrl[,2]=c(2, 8)\n",
    "trt[,3]=c(0, 4) #22\n",
    "ctrl[,3]=c(2, 7)\n",
    "trt[,4]=c(1, 3) #24\n",
    "ctrl[,4]=c(2, 6)\n",
    "trt[,5]=c(1, 3) #26\n",
    "ctrl[,5]=c(2, 5)\n",
    "trt[,6]=c(1, 3) #28\n",
    "ctrl[,6]=c(2, 4)\n",
    "trt[,7]=c(1, 2) #30\n",
    "ctrl[,7]=c(1, 3)\n",
    "\n",
    "\n",
    "c1 = rgb(red = 1, green = 0, blue = 0, alpha = 0.5) #trt\n",
    "c2 = rgb(red = 0, green = 0, blue = 1, alpha = 0.5) #ctrl\n",
    "\n",
    "plot(x = c(1:100), y = c(1:100), type = \"n\", xlim = c(17,31), ylim = c(0,11), cex.lab=1.2,\n",
    "     main = \"Alcohol Consumption - 95% Prediction Intervals\", xlab = \"Age\",ylab = \"Drinks per Week\")\n",
    "\n",
    "for (age in seq(from=18,to=30,by=2)) { \n",
    "  segments(x0 = age-0.05, y0 = trt[1, (age-18)/2+1],\n",
    "           x1 = age-0.05, y1 = trt[2, (age-18)/2+1],lwd = 3,col=c1)\n",
    "  \n",
    "  segments(x0 = age+0.05, y0 = ctrl[1, (age-18)/2+1],\n",
    "           x1 = age+0.05, y1 = ctrl[2, (age-18)/2+1],lwd = 3,col=c2)\n",
    "}\n",
    "legend('topright',legend=c('Treatment','Control'),fill=c(c1,c2))\n",
    "mtext(\"https://tinyurl.com/vwxuwop\", side = 1, cex = 0.5, adj = 0, padj = 10)"
   ]
  }
 ],
 "metadata": {
  "kernelspec": {
   "display_name": "R",
   "language": "R",
   "name": "ir"
  },
  "language_info": {
   "codemirror_mode": "r",
   "file_extension": ".r",
   "mimetype": "text/x-r-source",
   "name": "R",
   "pygments_lexer": "r",
   "version": "3.6.1"
  }
 },
 "nbformat": 4,
 "nbformat_minor": 2
}
